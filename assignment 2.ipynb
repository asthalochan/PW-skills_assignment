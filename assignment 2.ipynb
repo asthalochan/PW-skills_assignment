{
 "cells": [
  {
   "cell_type": "markdown",
   "id": "6af69c64-0a7d-4e16-b23b-476f5f00fe04",
   "metadata": {},
   "source": [
    "## Q1. Which keyword is used to create a function? Create a function to return a list of odd numbers in the range of 1 to 25."
   ]
  },
  {
   "cell_type": "markdown",
   "id": "7e9be8ac-4a81-4645-b047-c8372bf14bed",
   "metadata": {},
   "source": [
    "# 'def' keyword is used to create a function ."
   ]
  },
  {
   "cell_type": "code",
   "execution_count": 2,
   "id": "0d62c502-d671-423e-8a93-b5473138cef9",
   "metadata": {},
   "outputs": [
    {
     "name": "stdout",
     "output_type": "stream",
     "text": [
      "[1, 3, 5, 7, 9, 11, 13, 15, 17, 19, 21, 23, 25]\n"
     ]
    }
   ],
   "source": [
    "\n",
    "\n",
    "def odd_numbers():\n",
    "    odd_list = []\n",
    "    for i in range(1, 26):\n",
    "        if i % 2 != 0:\n",
    "            odd_list.append(i)\n",
    "    return odd_list\n",
    "\n",
    "print(odd_numbers())"
   ]
  },
  {
   "cell_type": "markdown",
   "id": "b669f0fb-0b0d-4e07-bd54-9e879fe03be5",
   "metadata": {},
   "source": [
    " ## Q2. Why *args and **kwargs is used in some functions? Create a function each for *args and **kwargs to demonstrate their use."
   ]
  },
  {
   "cell_type": "markdown",
   "id": "ab98b7dc-83d4-4181-807e-f349d62921f8",
   "metadata": {},
   "source": [
    " *args is used to send a non-keyworded variable length argument list to the function. **kwargs is used to send a keyworded variable length argument list to the function."
   ]
  },
  {
   "cell_type": "code",
   "execution_count": 4,
   "id": "a0fc2855-0fc8-4649-a4c7-735b78d17fcf",
   "metadata": {},
   "outputs": [
    {
     "name": "stdout",
     "output_type": "stream",
     "text": [
      "1 2 3 4 5 "
     ]
    }
   ],
   "source": [
    "def my_args_function(*args):\n",
    "  for arg in args:\n",
    "    print(arg,end= \" \")\n",
    "\n",
    "my_args_function(1, 2, 3, 4, 5)"
   ]
  },
  {
   "cell_type": "code",
   "execution_count": 5,
   "id": "0b41d557-f153-4363-ac1e-fafaefbbdb68",
   "metadata": {},
   "outputs": [
    {
     "name": "stdout",
     "output_type": "stream",
     "text": [
      "name : John\n",
      "age : 20\n"
     ]
    }
   ],
   "source": [
    "def my_kwargs_function(**kwargs):\n",
    "  for key, value in kwargs.items():\n",
    "    print(key, ':', value)\n",
    "my_kwargs_function(name='John', age=20)"
   ]
  },
  {
   "cell_type": "markdown",
   "id": "0e8c3fa8-b8bd-43b5-aaa9-3563d7f6b6e9",
   "metadata": {},
   "source": [
    "## Q3. What is an iterator in python? Name the method used to initialise the iterator object and the method used for iteration. Use these methods to print the first five elements of the given list [2, 4, 6, 8, 10, 12, 14,16, 18, 20]."
   ]
  },
  {
   "cell_type": "markdown",
   "id": "8eae859e-94d7-454e-a5fb-b0d21922dd00",
   "metadata": {},
   "source": [
    "An iterator in Python is an object that can be used to iterate through a sequence of values. The __iter__() method is used to initialise the iterator object, and the __next__() method is used for iteration."
   ]
  },
  {
   "cell_type": "code",
   "execution_count": 7,
   "id": "4375c580-de3c-469a-b8ec-680c6912df67",
   "metadata": {},
   "outputs": [
    {
     "name": "stdout",
     "output_type": "stream",
     "text": [
      "2 4 6 8 10 "
     ]
    }
   ],
   "source": [
    "for i in range(1,6):\n",
    "    print(i * 2, end=\" \")"
   ]
  },
  {
   "cell_type": "markdown",
   "id": "8c728bca-02cd-45b2-9d8c-e271e2fd6989",
   "metadata": {},
   "source": [
    "## Q4. What is a generator function in python? Why yield keyword is used? Give an example of a generator function."
   ]
  },
  {
   "cell_type": "markdown",
   "id": "5aaff36b-8765-4a4f-9f46-836a95bbc596",
   "metadata": {},
   "source": [
    "A generator function in Python is a function that returns an iterable generator object. It is a special type of function that yields a sequence of values, instead of returning a single value. The yield keyword is used to pause the function’s execution and return the yielded value.\n"
   ]
  },
  {
   "cell_type": "code",
   "execution_count": 8,
   "id": "c012e046-31f2-4140-95a0-0137850ec286",
   "metadata": {},
   "outputs": [
    {
     "name": "stdout",
     "output_type": "stream",
     "text": [
      "1\n",
      "2\n",
      "3\n"
     ]
    }
   ],
   "source": [
    "def my_generator_function():\n",
    "    yield 1\n",
    "    yield 2\n",
    "    yield 3\n",
    "\n",
    "for value in my_generator_function():\n",
    "    print(value)"
   ]
  },
  {
   "cell_type": "markdown",
   "id": "08e64903-37fe-41cd-88db-b30cf1155e23",
   "metadata": {},
   "source": [
    "## Q5. Create a generator function for prime numbers less than 1000. Use the next() method to print the first 20 prime numbers."
   ]
  },
  {
   "cell_type": "code",
   "execution_count": 9,
   "id": "7aa7a5bd-a87e-4aed-bfd6-6451e4e8d75a",
   "metadata": {},
   "outputs": [
    {
     "name": "stdout",
     "output_type": "stream",
     "text": [
      "2\n",
      "3\n",
      "5\n",
      "7\n",
      "11\n",
      "13\n",
      "17\n",
      "19\n",
      "23\n",
      "29\n",
      "31\n",
      "37\n",
      "41\n",
      "43\n",
      "47\n",
      "53\n",
      "59\n",
      "61\n",
      "67\n",
      "71\n"
     ]
    }
   ],
   "source": [
    "def prime_gen():\n",
    "    num = 2\n",
    "    while True:\n",
    "        is_prime = True\n",
    "        for i in range(2, num):\n",
    "            if (num % i) == 0:\n",
    "                is_prime = False\n",
    "        if is_prime:\n",
    "            yield num\n",
    "        num += 1\n",
    "        if num >= 1000:\n",
    "            break\n",
    "\n",
    "prime_gen = prime_gen()\n",
    "\n",
    "for i in range(20):\n",
    "    print(next(prime_gen))"
   ]
  },
  {
   "cell_type": "markdown",
   "id": "162a061b-251f-4e94-bef3-7905a0aaa465",
   "metadata": {},
   "source": [
    "## Q6. Write a python program to print the first 10 Fibonacci numbers using a while loop."
   ]
  },
  {
   "cell_type": "code",
   "execution_count": 10,
   "id": "ba1ec016-a88e-4d85-bb3f-ad620561fb7f",
   "metadata": {},
   "outputs": [
    {
     "name": "stdout",
     "output_type": "stream",
     "text": [
      "0\n",
      "1\n",
      "1\n",
      "2\n",
      "3\n",
      "5\n",
      "8\n",
      "13\n",
      "21\n",
      "34\n"
     ]
    }
   ],
   "source": [
    "f1=0\n",
    "f2=1\n",
    "i=1\n",
    "while i != 11:\n",
    "    print(f1)\n",
    "    f1,f2 = f2 , f1+f2\n",
    "    i+=1"
   ]
  },
  {
   "cell_type": "markdown",
   "id": "f90baede-e3aa-49c1-9b73-d3a30c9cb83d",
   "metadata": {},
   "source": [
    "## Q7. Write a List Comprehension to iterate through the given string: ‘pwskills’. Expected output: ['p', 'w', 's', 'k', 'i', 'l', 'l', 's']"
   ]
  },
  {
   "cell_type": "code",
   "execution_count": 12,
   "id": "551082a8-9e59-452e-9c64-f231fd6d4c8d",
   "metadata": {},
   "outputs": [
    {
     "name": "stdout",
     "output_type": "stream",
     "text": [
      "['p', 'w', 's', 'k', 'i', 'l', 'l', 's']\n"
     ]
    }
   ],
   "source": [
    "string = 'pwskills'\n",
    "lis=list()\n",
    "for i in string:\n",
    "    lis.append(i)\n",
    "print(lis)"
   ]
  },
  {
   "cell_type": "markdown",
   "id": "3fc7dd61-7ef2-454e-b84e-c9bc629e0ba1",
   "metadata": {},
   "source": [
    "## Q8. Write a python program to check whether a given number is Palindrome or not using a while loop."
   ]
  },
  {
   "cell_type": "code",
   "execution_count": 16,
   "id": "9d2c574e-8fa3-42cf-b4e9-1f4c26837494",
   "metadata": {},
   "outputs": [
    {
     "name": "stdin",
     "output_type": "stream",
     "text": [
      "Enter a numer  121\n"
     ]
    },
    {
     "name": "stdout",
     "output_type": "stream",
     "text": [
      " this number is palindrom number \n"
     ]
    }
   ],
   "source": [
    "num=int(input(\"Enter a numer \"))\n",
    "original = num\n",
    "new=0\n",
    "while num != 0:\n",
    "    temp = num % 10 \n",
    "    new = (new * 10) + temp\n",
    "    num = num // 10\n",
    "if original == new :\n",
    "    print(\" this number is palindrom number \")\n",
    "else:\n",
    "    print(\"this number is not a palindrom number \")"
   ]
  },
  {
   "cell_type": "markdown",
   "id": "0a29ad55-1aa6-4aa6-8443-7bc8ed56004d",
   "metadata": {},
   "source": [
    "## Q9. Write a code to print odd numbers from 1 to 100 using list comprehension."
   ]
  },
  {
   "cell_type": "code",
   "execution_count": 17,
   "id": "b2fffd48-42f2-4ff7-9805-07b13a67e921",
   "metadata": {},
   "outputs": [
    {
     "name": "stdout",
     "output_type": "stream",
     "text": [
      "1,3,5,7,9,11,13,15,17,19,21,23,25,27,29,31,33,35,37,39,41,43,45,47,49,51,53,55,57,59,61,63,65,67,69,71,73,75,77,79,81,83,85,87,89,91,93,95,97,99,"
     ]
    }
   ],
   "source": [
    "for i in range (1,100):\n",
    "    if i % 2 != 0:\n",
    "       print(i,end=\",\")"
   ]
  },
  {
   "cell_type": "code",
   "execution_count": 19,
   "id": "18767086-3113-42b8-bfa4-891eac9f496e",
   "metadata": {},
   "outputs": [
    {
     "name": "stdout",
     "output_type": "stream",
     "text": [
      "1,3,5,7,9,11,13,15,17,19,21,23,25,27,29,31,33,35,37,39,41,43,45,47,49,51,53,55,57,59,61,63,65,67,69,71,73,75,77,79,81,83,85,87,89,91,93,95,97,99,"
     ]
    }
   ],
   "source": [
    "for i in range(1,100,2):\n",
    "    print(i,end=\",\")"
   ]
  },
  {
   "cell_type": "code",
   "execution_count": null,
   "id": "9c66e670-cac3-4f4e-bdea-09fc522ff7b4",
   "metadata": {},
   "outputs": [],
   "source": []
  }
 ],
 "metadata": {
  "kernelspec": {
   "display_name": "Python 3 (ipykernel)",
   "language": "python",
   "name": "python3"
  },
  "language_info": {
   "codemirror_mode": {
    "name": "ipython",
    "version": 3
   },
   "file_extension": ".py",
   "mimetype": "text/x-python",
   "name": "python",
   "nbconvert_exporter": "python",
   "pygments_lexer": "ipython3",
   "version": "3.10.8"
  }
 },
 "nbformat": 4,
 "nbformat_minor": 5
}
