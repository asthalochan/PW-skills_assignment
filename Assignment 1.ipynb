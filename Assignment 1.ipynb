{
 "cells": [
  {
   "cell_type": "markdown",
   "id": "91affb13-cfb5-4d3c-b869-6741306c474e",
   "metadata": {},
   "source": [
    "## Q1. Explain with an example each when to use a for loop and a while loop."
   ]
  },
  {
   "cell_type": "markdown",
   "id": "40003abf-70d6-4161-b231-a884f8deee62",
   "metadata": {},
   "source": [
    "**For loop:**\n",
    "\n",
    "For loops are used when we know the exact number of times we want to iterate through a loop.\n",
    "Example:-"
   ]
  },
  {
   "cell_type": "code",
   "execution_count": 1,
   "id": "bf506a8b-26e3-46d8-9c86-bdc43eb6b3bc",
   "metadata": {},
   "outputs": [
    {
     "name": "stdout",
     "output_type": "stream",
     "text": [
      "1 2 3 4 5 6 7 8 9 10 "
     ]
    }
   ],
   "source": [
    "for i in range (1,11):\n",
    "    print(i, end =\" \")"
   ]
  },
  {
   "cell_type": "markdown",
   "id": "b69f01ae-93f3-42da-b572-d7fc2ffda548",
   "metadata": {},
   "source": [
    "**While Loop:**\n",
    "While loops are used when we don't  know how many times we want to ittrate the loops.\n",
    "\n",
    "example:"
   ]
  },
  {
   "cell_type": "code",
   "execution_count": 4,
   "id": "6685d5cd-349f-4ccf-a945-a49ddf30186a",
   "metadata": {},
   "outputs": [
    {
     "name": "stdout",
     "output_type": "stream",
     "text": [
      "10 9 8 7 6 5 "
     ]
    }
   ],
   "source": [
    "i = 10\n",
    "while i != 4:\n",
    "    print(i, end= \" \")\n",
    "    i-=1"
   ]
  },
  {
   "cell_type": "markdown",
   "id": "5f84293a-ddae-40b7-892f-23a5de4c189e",
   "metadata": {},
   "source": [
    "## Q2. Write a python program to print the sum and product of the first 10 natural numbers using for and while loop.\n"
   ]
  },
  {
   "cell_type": "code",
   "execution_count": 7,
   "id": "eb532e3a-5dac-4530-861c-1b89354b9763",
   "metadata": {},
   "outputs": [
    {
     "name": "stdout",
     "output_type": "stream",
     "text": [
      "The sum and mul of the first 10 natural numbers are 55 and 3628800  respectively\n",
      "The sum and mul of the first 10 natural numbers are 55 and 3628800  respectively\n"
     ]
    }
   ],
   "source": [
    "# for loop\n",
    "l_sum=0\n",
    "l_mul=1\n",
    "for i in range(1,11):\n",
    "    l_sum = l_sum + i\n",
    "    l_mul = l_mul * i\n",
    "print(f\"The sum and mul of the first 10 natural numbers are {l_sum} and {l_mul}  respectively\") \n",
    "w_sum=0\n",
    "w_mul=1\n",
    "i = 1\n",
    "\n",
    "#while loop\n",
    "while i != 11:\n",
    "    w_sum = i + w_sum\n",
    "    w_mul = i * w_mul\n",
    "    i+=1\n",
    "print(f\"The sum and mul of the first 10 natural numbers are {w_sum} and {w_mul}  respectively\") "
   ]
  },
  {
   "cell_type": "markdown",
   "id": "addead55-4101-4270-8792-40aeb401ed4b",
   "metadata": {},
   "source": [
    "## Q3. Create a python program to compute the electricity bill for a household.The per-unit charges in rupees are as follows: For the first 100 units, the user will be charged Rs. 4.5 perunit, for the next 100 units, the user will be charged Rs. 6 per unit, and for the next 100 units, the user willbe charged Rs. 10 per unit, After 300 units and above the user will be charged Rs. 20 per unit."
   ]
  },
  {
   "cell_type": "code",
   "execution_count": 17,
   "id": "0c573c9e-176c-4eaa-9f77-07f302aa613b",
   "metadata": {},
   "outputs": [
    {
     "name": "stdin",
     "output_type": "stream",
     "text": [
      "Enter the consume unit  310\n"
     ]
    },
    {
     "name": "stdout",
     "output_type": "stream",
     "text": [
      "You have to pay 2250.0 rupees \n"
     ]
    }
   ],
   "source": [
    "unit=int(input(\"Enter the consume unit \"))\n",
    "if unit < 100:\n",
    "         bill = unit * 4.5\n",
    "elif unit >= 100 and unit < 200:\n",
    "         bill = (100 * 4.5) + ((unit - 100) * 6)\n",
    "elif unit >= 200 and unit < 300:\n",
    "         bill = (100 * 4.5) + (100 * 6) + ((unit - 200) * 10)\n",
    "else:\n",
    "         bill = (100 * 4.5) + (100 * 6) + (100 * 10) + ((unit - 300) * 20)\n",
    "print(f\"You have to pay {bill} rupees \")"
   ]
  },
  {
   "cell_type": "markdown",
   "id": "7efb71a6-cc61-4228-a4e4-d7e8d23d2e34",
   "metadata": {},
   "source": [
    "## Q4. Create a list of numbers from 1 to 100. Use for loop and while loop to calculate the cube of eachnumber and if the cube of that number is divisible by 4 or 5 then append that number in a list and print that list."
   ]
  },
  {
   "cell_type": "code",
   "execution_count": 16,
   "id": "f1427227-ad95-40f6-939c-00f9cee710c2",
   "metadata": {},
   "outputs": [
    {
     "name": "stdout",
     "output_type": "stream",
     "text": [
      "[2, 4, 5, 6, 8, 10, 12, 14, 15, 16, 18, 20, 22, 24, 25, 26, 28, 30, 32, 34, 35, 36, 38, 40, 42, 44, 45, 46, 48, 50, 52, 54, 55, 56, 58, 60, 62, 64, 65, 66, 68, 70, 72, 74, 75, 76, 78, 80, 82, 84, 85, 86, 88, 90, 92, 94, 95, 96, 98, 100]\n"
     ]
    }
   ],
   "source": [
    "l= list()\n",
    "for i in range(1,101):\n",
    "    if ((i**3) % 4 == 0) or ((i**3) % 5 == 0):\n",
    "        l.append(i)\n",
    "print(l)\n"
   ]
  },
  {
   "cell_type": "markdown",
   "id": "b57ab51e-ff0d-45f2-8feb-480fcea2263c",
   "metadata": {},
   "source": [
    "## Q5. Write a program to filter count vowels in the below-given string.\n",
    "# string = \"I want to become a data scientist\""
   ]
  },
  {
   "cell_type": "code",
   "execution_count": 24,
   "id": "bd7dc079-a02f-4942-8dbe-bb0cdd5df44b",
   "metadata": {},
   "outputs": [
    {
     "name": "stdout",
     "output_type": "stream",
     "text": [
      "the total no of vowels 11 \n"
     ]
    }
   ],
   "source": [
    "string = \"I want to become a data scientist\"\n",
    "string=list(string)\n",
    "vow=0\n",
    "for i in string:\n",
    "    if (i == 'a') or (i == 'e') or (i == 'i') or (i == 'o') or (i == 'u'): \n",
    "        vow +=1\n",
    "print(f\"the total no of vowels {vow} \")"
   ]
  },
  {
   "cell_type": "code",
   "execution_count": 27,
   "id": "0bdd7739-3fef-4f1b-ac09-f7112a60be27",
   "metadata": {},
   "outputs": [
    {
     "data": {
      "text/plain": [
       "'I want to become a data scientist'"
      ]
     },
     "execution_count": 27,
     "metadata": {},
     "output_type": "execute_result"
    }
   ],
   "source": [
    "string = \"I want to become a data scientist\"\n",
    "str1string.lower()\n",
    "string"
   ]
  },
  {
   "cell_type": "code",
   "execution_count": null,
   "id": "3287c016-3e36-4b51-8cf5-7919e362f94c",
   "metadata": {},
   "outputs": [],
   "source": []
  }
 ],
 "metadata": {
  "kernelspec": {
   "display_name": "Python 3 (ipykernel)",
   "language": "python",
   "name": "python3"
  },
  "language_info": {
   "codemirror_mode": {
    "name": "ipython",
    "version": 3
   },
   "file_extension": ".py",
   "mimetype": "text/x-python",
   "name": "python",
   "nbconvert_exporter": "python",
   "pygments_lexer": "ipython3",
   "version": "3.10.8"
  }
 },
 "nbformat": 4,
 "nbformat_minor": 5
}
